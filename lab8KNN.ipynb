{
  "cells": [
    {
      "cell_type": "code",
      "execution_count": 6,
      "metadata": {
        "colab": {
          "base_uri": "https://localhost:8080/"
        },
        "id": "-CFygNfUUoZG",
        "outputId": "b20276ac-a2a8-4727-f5a7-e1c99010c359"
      },
      "outputs": [
        {
          "name": "stdout",
          "output_type": "stream",
          "text": [
            "False Negative: 128\n",
            "True Positive: 157\n",
            "False Positive: 5\n",
            "True Negative: 6\n",
            "Accuracy: 96.28378378378379\n",
            "Precision: 96.91358024691358\n",
            "Recall: 96.319\n"
          ]
        }
      ],
      "source": [
        "import pandas as pd\n",
        "from matplotlib.colors import ListedColormap\n",
        "from sklearn import datasets\n",
        "import matplotlib.pyplot as plt\n",
        "from sklearn.model_selection import train_test_split\n",
        "import numpy as np\n",
        "from collections import Counter\n",
        "\n",
        "\n",
        "def euclidean_distance(x1,x2):\n",
        "  return np.sqrt(np.sum((x1 - x2) ** 2))\n",
        "\n",
        "class KNN:\n",
        "  def init(self, k=3):\n",
        "    self.k = k\n",
        "\n",
        "  def fit(self,X,y):\n",
        "    self.X_train = X\n",
        "    self.y_train = y\n",
        "\n",
        "  def predict(self,X):\n",
        "    y_pred = []\n",
        "    for x in X:\n",
        "      y_pred += [self.p(x)]\n",
        "    return np.array(y_pred)\n",
        "\n",
        "  def p(self,x):\n",
        "    #compute distances\n",
        "    distances = []\n",
        "    for x_train in self.X_train:\n",
        "      distances += [euclidean_distance(x,x_train)]\n",
        "    #get k nearest samples, labels\n",
        "    k_indices = np.argsort(distances)[:self.k]\n",
        "    k_nearest_labels =  []\n",
        "    for i in k_indices:\n",
        "      k_nearest_labels.append(self.y_train[i])\n",
        "    #majority vote most common class label\n",
        "    most_common = Counter(k_nearest_labels).most_common(1)\n",
        "    return most_common[0][0]\n",
        "\n",
        "def KNN_Classifier(X_train,y_train,X_test,y_test,k):\n",
        "  clf = KNN()\n",
        "  clf.k = k\n",
        "  clf.fit(X_train,y_train)\n",
        "  predictions = clf.predict(X_test)\n",
        "  return predictions\n",
        "\n",
        "cmap = ListedColormap\n",
        "cmap = ListedColormap([\"#FF0000\", \"#00FF00\", \"#0000FF\"])\n",
        "data = pd.read_csv(\"heart.csv\")\n",
        "data = data.sample(frac = 1)\n",
        "X = data.drop(['target','fbs','exang','sex'],axis = 'columns').values\n",
        "y = data['target'].values\n",
        "X_train, X_test, y_train, y_test = train_test_split(X, y, test_size=0.2225, random_state=0)\n",
        "#print(X.shape,y.shape)#\n",
        "#plt.figure()\n",
        "#plt.scatter(X[:0],X[:,1],c=y,cmap= cmap,edgecolor ='k',s = 20)\n",
        "#plt.show()\n",
        "count = 0\n",
        "acc = 0\n",
        "predictions = KNN_Classifier(X_train,y_train,X_test,y_test,3)\n",
        "#print(len(predictions),len(y_test))\n",
        "\n",
        "\n",
        "fn=0\n",
        "tp=0\n",
        "fp=0\n",
        "tn=0\n",
        "\n",
        "\n",
        "for i in range(len(predictions)):\n",
        "  if predictions[i]==0 and y_test[i]==0:\n",
        "    fn+=1\n",
        "  if predictions[i]==1 and y_test[i]==1:\n",
        "    tp+=1\n",
        "  if predictions[i]==1 and y_test[i]==0:\n",
        "    fp+=1\n",
        "  if predictions[i]==0 and y_test[i]==1:\n",
        "    tn+=1\n",
        "\n",
        "print(\"False Negative:\", fn)\n",
        "print(\"True Positive:\", tp)\n",
        "print(\"False Positive:\", fp)\n",
        "print(\"True Negative:\", tn)\n",
        "\n",
        "\n",
        "for i,n in enumerate(predictions):\n",
        "        if predictions[i] == y_test[i]:\n",
        "          count += 1\n",
        "acc = count/len(predictions)\n",
        "print('Accuracy:',acc*100)\n",
        "\n",
        "Precision = tp / (tp + fp)\n",
        "print('Precision:', Precision*100)\n",
        "\n",
        "from sklearn.metrics import recall_score\n",
        "recall = recall_score(y_test, predictions, average='binary')\n",
        "print('Recall: %.3f' % (recall*100))"
      ]
    }
  ],
  "metadata": {
    "colab": {
      "collapsed_sections": [],
      "name": "Copy of Untitled1.ipynb",
      "provenance": []
    },
    "kernelspec": {
      "display_name": "Python 3.10.5 64-bit (windows store)",
      "language": "python",
      "name": "python3"
    },
    "language_info": {
      "codemirror_mode": {
        "name": "ipython",
        "version": 3
      },
      "file_extension": ".py",
      "mimetype": "text/x-python",
      "name": "python",
      "nbconvert_exporter": "python",
      "pygments_lexer": "ipython3",
      "version": "3.10.5"
    },
    "vscode": {
      "interpreter": {
        "hash": "d62ed14bcfe00e9327ce4c427a2f9f47c404f2673d9388e850d9d086e145f1c8"
      }
    }
  },
  "nbformat": 4,
  "nbformat_minor": 0
}
