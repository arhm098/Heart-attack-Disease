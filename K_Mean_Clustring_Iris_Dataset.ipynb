{
  "nbformat": 4,
  "nbformat_minor": 0,
  "metadata": {
    "colab": {
      "name": "K_Mean_Clustring_Iris_Dataset.ipynb",
      "private_outputs": true,
      "provenance": [],
      "collapsed_sections": []
    },
    "kernelspec": {
      "name": "python3",
      "display_name": "Python 3"
    },
    "language_info": {
      "name": "python"
    }
  },
  "cells": [
    {
      "cell_type": "code",
      "source": [
        "import pandas as pd\n",
        "import matplotlib.pyplot as plt\n",
        "import seaborn as sns\n",
        "%matplotlib inline"
      ],
      "metadata": {
        "id": "aMkxdKIQR75q"
      },
      "execution_count": null,
      "outputs": []
    },
    {
      "cell_type": "code",
      "source": [
        "data_file = pd.read_csv('heart.csv')\n",
        "data_file.head()"
      ],
      "metadata": {
        "id": "bbi7vUQ_SE_3"
      },
      "execution_count": null,
      "outputs": []
    },
    {
      "cell_type": "code",
      "source": [
        "data_file.describe()"
      ],
      "metadata": {
        "id": "a9OlIwDTS79o"
      },
      "execution_count": null,
      "outputs": []
    },
    {
      "cell_type": "code",
      "source": [
        "X = data_file.drop(['target','age'],axis=1)\n",
        "X.head()"
      ],
      "metadata": {
        "id": "Ifncq6tCSN_M"
      },
      "execution_count": null,
      "outputs": []
    },
    {
      "cell_type": "code",
      "source": [
        "labels = data_file['age']\n",
        "labels.unique()"
      ],
      "metadata": {
        "id": "ks775rjnSzP4"
      },
      "execution_count": null,
      "outputs": []
    },
    {
      "cell_type": "code",
      "source": [
        "from sklearn.cluster import KMeans\n",
        "kmeans = KMeans(3, random_state = 0)\n",
        "kmeans.fit(X)"
      ],
      "metadata": {
        "id": "RGfOlwfWkWay"
      },
      "execution_count": null,
      "outputs": []
    },
    {
      "cell_type": "code",
      "source": [
        "kmeans.cluster_centers_"
      ],
      "metadata": {
        "id": "9lPLuNMJfquu"
      },
      "execution_count": null,
      "outputs": []
    },
    {
      "cell_type": "code",
      "source": [
        "X['Clusters'] = kmeans.labels_\n",
        "X['Clusters'].unique() "
      ],
      "metadata": {
        "id": "HWczo0g-f6w9"
      },
      "execution_count": null,
      "outputs": []
    },
    {
      "cell_type": "code",
      "source": [
        "X['Clusters'].value_counts()"
      ],
      "metadata": {
        "id": "20q4KPiBgKNF"
      },
      "execution_count": null,
      "outputs": []
    },
    {
      "cell_type": "code",
      "source": [
        "sns.pairplot(hue = 'Clusters', data=X)"
      ],
      "metadata": {
        "id": "K_Lp9837f69N"
      },
      "execution_count": null,
      "outputs": []
    }
  ]
}